{
 "cells": [
  {
   "cell_type": "markdown",
   "metadata": {},
   "source": [
    "Code from: https://medium.com/@kasperjuunge/yfinance-10-ways-to-get-stock-data-with-python-6677f49e8282"
   ]
  },
  {
   "cell_type": "code",
   "execution_count": 1,
   "metadata": {},
   "outputs": [],
   "source": [
    "import pandas as pd\n",
    "import yfinance as yf"
   ]
  },
  {
   "cell_type": "code",
   "execution_count": 2,
   "metadata": {},
   "outputs": [
    {
     "name": "stdout",
     "output_type": "stream",
     "text": [
      "{'address1': 'One Apple Park Way', 'city': 'Cupertino', 'state': 'CA', 'zip': '95014', 'country': 'United States', 'phone': '408 996 1010', 'website': 'https://www.apple.com', 'industry': 'Consumer Electronics', 'industryKey': 'consumer-electronics', 'industryDisp': 'Consumer Electronics', 'sector': 'Technology', 'sectorKey': 'technology', 'sectorDisp': 'Technology', 'longBusinessSummary': 'Apple Inc. designs, manufactures, and markets smartphones, personal computers, tablets, wearables, and accessories worldwide. The company offers iPhone, a line of smartphones; Mac, a line of personal computers; iPad, a line of multi-purpose tablets; and wearables, home, and accessories comprising AirPods, Apple TV, Apple Watch, Beats products, and HomePod. It also provides AppleCare support and cloud services; and operates various platforms, including the App Store that allow customers to discover and download applications and digital content, such as books, music, video, games, and podcasts. In addition, the company offers various services, such as Apple Arcade, a game subscription service; Apple Fitness+, a personalized fitness service; Apple Music, which offers users a curated listening experience with on-demand radio stations; Apple News+, a subscription news and magazine service; Apple TV+, which offers exclusive original content; Apple Card, a co-branded credit card; and Apple Pay, a cashless payment service, as well as licenses its intellectual property. The company serves consumers, and small and mid-sized businesses; and the education, enterprise, and government markets. It distributes third-party applications for its products through the App Store. The company also sells its products through its retail and online stores, and direct sales force; and third-party cellular network carriers, wholesalers, retailers, and resellers. Apple Inc. was founded in 1976 and is headquartered in Cupertino, California.', 'fullTimeEmployees': 150000, 'companyOfficers': [{'maxAge': 1, 'name': 'Mr. Timothy D. Cook', 'age': 62, 'title': 'CEO & Director', 'yearBorn': 1961, 'fiscalYear': 2023, 'totalPay': 16239562, 'exercisedValue': 0, 'unexercisedValue': 0}, {'maxAge': 1, 'name': 'Mr. Luca  Maestri', 'age': 60, 'title': 'CFO & Senior VP', 'yearBorn': 1963, 'fiscalYear': 2023, 'totalPay': 4612242, 'exercisedValue': 0, 'unexercisedValue': 0}, {'maxAge': 1, 'name': 'Mr. Jeffrey E. Williams', 'age': 59, 'title': 'Chief Operating Officer', 'yearBorn': 1964, 'fiscalYear': 2023, 'totalPay': 4637585, 'exercisedValue': 0, 'unexercisedValue': 0}, {'maxAge': 1, 'name': 'Ms. Katherine L. Adams', 'age': 59, 'title': 'Senior VP, General Counsel & Secretary', 'yearBorn': 1964, 'fiscalYear': 2023, 'totalPay': 4618064, 'exercisedValue': 0, 'unexercisedValue': 0}, {'maxAge': 1, 'name': \"Ms. Deirdre  O'Brien\", 'age': 56, 'title': 'Senior Vice President of Retail', 'yearBorn': 1967, 'fiscalYear': 2023, 'totalPay': 4613369, 'exercisedValue': 0, 'unexercisedValue': 0}, {'maxAge': 1, 'name': 'Mr. Chris  Kondo', 'title': 'Senior Director of Corporate Accounting', 'fiscalYear': 2023, 'exercisedValue': 0, 'unexercisedValue': 0}, {'maxAge': 1, 'name': 'Mr. James  Wilson', 'title': 'Chief Technology Officer', 'fiscalYear': 2023, 'exercisedValue': 0, 'unexercisedValue': 0}, {'maxAge': 1, 'name': 'Suhasini  Chandramouli', 'title': 'Director of Investor Relations', 'fiscalYear': 2023, 'exercisedValue': 0, 'unexercisedValue': 0}, {'maxAge': 1, 'name': 'Mr. Greg  Joswiak', 'title': 'Senior Vice President of Worldwide Marketing', 'fiscalYear': 2023, 'exercisedValue': 0, 'unexercisedValue': 0}, {'maxAge': 1, 'name': 'Mr. Adrian  Perica', 'age': 49, 'title': 'Head of Corporate Development', 'yearBorn': 1974, 'fiscalYear': 2023, 'exercisedValue': 0, 'unexercisedValue': 0}], 'auditRisk': 6, 'boardRisk': 1, 'compensationRisk': 2, 'shareHolderRightsRisk': 1, 'overallRisk': 1, 'governanceEpochDate': 1714521600, 'compensationAsOfEpochDate': 1703980800, 'irWebsite': 'http://investor.apple.com/', 'maxAge': 86400, 'priceHint': 2, 'previousClose': 190.9, 'open': 191.0, 'dayLow': 186.625, 'dayHigh': 191.0, 'regularMarketPreviousClose': 190.9, 'regularMarketOpen': 191.0, 'regularMarketDayLow': 186.625, 'regularMarketDayHigh': 191.0, 'dividendRate': 1.0, 'dividendYield': 0.0052, 'exDividendDate': 1715299200, 'payoutRatio': 0.14930001, 'fiveYearAvgDividendYield': 0.73, 'beta': 1.264, 'trailingPE': 29.063765, 'forwardPE': 25.847857, 'volume': 50481918, 'regularMarketVolume': 50481918, 'averageVolume': 64161917, 'averageVolume10days': 50996160, 'averageDailyVolume10Day': 50996160, 'bid': 186.78, 'ask': 186.86, 'bidSize': 100, 'askSize': 100, 'marketCap': 2865636573184, 'fiftyTwoWeekLow': 164.08, 'fiftyTwoWeekHigh': 199.62, 'priceToSalesTrailing12Months': 7.509077, 'fiftyDayAverage': 175.2626, 'twoHundredDayAverage': 180.88844, 'trailingAnnualDividendRate': 0.96, 'trailingAnnualDividendYield': 0.005028811, 'currency': 'USD', 'enterpriseValue': 2964716257280, 'profitMargins': 0.26306, 'floatShares': 15308320742, 'sharesOutstanding': 15334099968, 'sharesShort': 94308265, 'sharesShortPriorMonth': 108782648, 'sharesShortPreviousMonthDate': 1711584000, 'dateShortInterest': 1714435200, 'sharesPercentSharesOut': 0.0062, 'heldPercentInsiders': 0.052199997, 'heldPercentInstitutions': 0.57555, 'shortRatio': 1.66, 'shortPercentOfFloat': 0.0062, 'impliedSharesOutstanding': 15450600448, 'bookValue': 4.837, 'priceToBook': 38.63552, 'lastFiscalYearEnd': 1696032000, 'nextFiscalYearEnd': 1727654400, 'mostRecentQuarter': 1711756800, 'earningsQuarterlyGrowth': -0.022, 'netIncomeToCommon': 100389003264, 'trailingEps': 6.43, 'forwardEps': 7.23, 'pegRatio': 2.76, 'lastSplitFactor': '4:1', 'lastSplitDate': 1598832000, 'enterpriseToRevenue': 7.769, 'enterpriseToEbitda': 22.871, '52WeekChange': 0.10353196, 'SandP52WeekChange': 0.27840328, 'lastDividendValue': 0.25, 'lastDividendDate': 1715299200, 'exchange': 'NMS', 'quoteType': 'EQUITY', 'symbol': 'AAPL', 'underlyingSymbol': 'AAPL', 'shortName': 'Apple Inc.', 'longName': 'Apple Inc.', 'firstTradeDateEpochUtc': 345479400, 'timeZoneFullName': 'America/New_York', 'timeZoneShortName': 'EDT', 'uuid': '8b10e4ae-9eeb-3684-921a-9ab27e4d87aa', 'messageBoardId': 'finmb_24937', 'gmtOffSetMilliseconds': -14400000, 'currentPrice': 186.88, 'targetHighPrice': 250.0, 'targetLowPrice': 164.0, 'targetMeanPrice': 202.83, 'targetMedianPrice': 200.0, 'recommendationMean': 2.1, 'recommendationKey': 'buy', 'numberOfAnalystOpinions': 40, 'totalCash': 67150000128, 'totalCashPerShare': 4.379, 'ebitda': 129629003776, 'totalDebt': 104590000128, 'quickRatio': 0.875, 'currentRatio': 1.037, 'totalRevenue': 381623009280, 'debtToEquity': 140.968, 'revenuePerShare': 24.537, 'returnOnAssets': 0.22073999, 'returnOnEquity': 1.4725, 'freeCashflow': 84726874112, 'operatingCashflow': 110563000320, 'earningsGrowth': 0.007, 'revenueGrowth': -0.043, 'grossMargins': 0.45586, 'ebitdaMargins': 0.33968, 'operatingMargins': 0.30743, 'financialCurrency': 'USD', 'trailingPegRatio': 2.2638}\n"
     ]
    }
   ],
   "source": [
    "apple = yf.Ticker(\"AAPL\")\n",
    "print(apple.info)  # General information about Apple Inc."
   ]
  },
  {
   "cell_type": "code",
   "execution_count": 6,
   "metadata": {},
   "outputs": [
    {
     "name": "stderr",
     "output_type": "stream",
     "text": [
      "[*********************100%%**********************]  1 of 1 completed"
     ]
    },
    {
     "name": "stdout",
     "output_type": "stream",
     "text": [
      "                  Open        High         Low       Close   Adj Close  \\\n",
      "Date                                                                     \n",
      "2024-05-17  189.509995  190.809998  189.179993  189.869995  189.869995   \n",
      "2024-05-20  189.330002  191.919998  189.009995  191.039993  191.039993   \n",
      "2024-05-21  191.089996  192.729996  190.919998  192.350006  192.350006   \n",
      "2024-05-22  192.270004  192.820007  190.270004  190.899994  190.899994   \n",
      "2024-05-23  191.000000  191.000000  186.625000  186.880005  186.880005   \n",
      "\n",
      "              Volume  \n",
      "Date                  \n",
      "2024-05-17  41282900  \n",
      "2024-05-20  44361300  \n",
      "2024-05-21  42309400  \n",
      "2024-05-22  34648500  \n",
      "2024-05-23  50481918  \n"
     ]
    },
    {
     "name": "stderr",
     "output_type": "stream",
     "text": [
      "\n"
     ]
    }
   ],
   "source": [
    "recent_data = yf.download(\"AAPL\", period=\"5d\")\n",
    "print(recent_data)"
   ]
  },
  {
   "cell_type": "code",
   "execution_count": 4,
   "metadata": {},
   "outputs": [
    {
     "name": "stderr",
     "output_type": "stream",
     "text": [
      "[*********************100%%**********************]  2 of 2 completed"
     ]
    },
    {
     "name": "stdout",
     "output_type": "stream",
     "text": [
      "Price        Adj Close                   Close                    High  \\\n",
      "Ticker            AAPL        MSFT        AAPL        MSFT        AAPL   \n",
      "Date                                                                     \n",
      "2020-01-02   72.960464  154.215652   75.087502  160.619995   75.150002   \n",
      "2020-01-03   72.251152  152.295410   74.357498  158.619995   75.144997   \n",
      "2020-01-06   72.826859  152.689056   74.949997  159.029999   74.989998   \n",
      "2020-01-07   72.484344  151.296875   74.597504  157.580002   75.224998   \n",
      "2020-01-08   73.650345  153.706787   75.797501  160.089996   76.110001   \n",
      "...                ...         ...         ...         ...         ...   \n",
      "2020-12-24  129.339035  216.134018  131.970001  222.750000  133.460007   \n",
      "2020-12-28  133.964905  218.278381  136.690002  224.960007  137.339996   \n",
      "2020-12-29  132.181198  217.492447  134.869995  224.149994  138.789993   \n",
      "2020-12-30  131.054153  215.095795  133.720001  221.679993  135.990005   \n",
      "2020-12-31  130.044693  215.813828  132.690002  222.419998  134.740005   \n",
      "\n",
      "Price                          Low                    Open              \\\n",
      "Ticker            MSFT        AAPL        MSFT        AAPL        MSFT   \n",
      "Date                                                                     \n",
      "2020-01-02  160.729996   73.797501  158.330002   74.059998  158.779999   \n",
      "2020-01-03  159.949997   74.125000  158.059998   74.287498  158.320007   \n",
      "2020-01-06  159.100006   73.187500  156.509995   73.447502  157.080002   \n",
      "2020-01-07  159.669998   74.370003  157.320007   74.959999  159.320007   \n",
      "2020-01-08  160.800003   74.290001  157.949997   74.290001  158.929993   \n",
      "...                ...         ...         ...         ...         ...   \n",
      "2020-12-24  223.610001  131.100006  221.199997  131.320007  221.419998   \n",
      "2020-12-28  226.029999  133.509995  223.020004  133.990005  224.449997   \n",
      "2020-12-29  227.179993  134.339996  223.580002  138.050003  226.309998   \n",
      "2020-12-30  225.630005  133.399994  221.470001  135.580002  225.229996   \n",
      "2020-12-31  223.000000  131.720001  219.679993  134.080002  221.699997   \n",
      "\n",
      "Price          Volume            \n",
      "Ticker           AAPL      MSFT  \n",
      "Date                             \n",
      "2020-01-02  135480400  22622100  \n",
      "2020-01-03  146322800  21116200  \n",
      "2020-01-06  118387200  20813700  \n",
      "2020-01-07  108872000  21634100  \n",
      "2020-01-08  132079200  27746500  \n",
      "...               ...       ...  \n",
      "2020-12-24   54930100  10550600  \n",
      "2020-12-28  124486200  17933500  \n",
      "2020-12-29  121047300  17403200  \n",
      "2020-12-30   96452100  20272300  \n",
      "2020-12-31   99116600  20942100  \n",
      "\n",
      "[253 rows x 12 columns]\n"
     ]
    },
    {
     "name": "stderr",
     "output_type": "stream",
     "text": [
      "\n"
     ]
    }
   ],
   "source": [
    "multi_data = yf.download([\"AAPL\", \"MSFT\"], start=\"2020-01-01\", end=\"2021-01-01\")\n",
    "print(multi_data)"
   ]
  },
  {
   "cell_type": "code",
   "execution_count": 5,
   "metadata": {},
   "outputs": [
    {
     "name": "stderr",
     "output_type": "stream",
     "text": [
      "[*********************100%%**********************]  1 of 1 completed"
     ]
    },
    {
     "name": "stdout",
     "output_type": "stream",
     "text": [
      "Date\n",
      "2020-01-02     72.960464\n",
      "2020-01-03     72.251152\n",
      "2020-01-06     72.826859\n",
      "2020-01-07     72.484344\n",
      "2020-01-08     73.650345\n",
      "                 ...    \n",
      "2020-12-24    129.339035\n",
      "2020-12-28    133.964905\n",
      "2020-12-29    132.181198\n",
      "2020-12-30    131.054153\n",
      "2020-12-31    130.044693\n",
      "Name: Close, Length: 253, dtype: float64\n"
     ]
    },
    {
     "name": "stderr",
     "output_type": "stream",
     "text": [
      "\n"
     ]
    }
   ],
   "source": [
    "data = yf.download(\"AAPL\", start=\"2020-01-01\", end=\"2021-01-01\", auto_adjust=True)\n",
    "print(data['Close'])  # This will show the adjusted close prices"
   ]
  },
  {
   "cell_type": "code",
   "execution_count": 8,
   "metadata": {},
   "outputs": [
    {
     "name": "stderr",
     "output_type": "stream",
     "text": [
      "[*********************100%%**********************]  1 of 1 completed"
     ]
    },
    {
     "name": "stdout",
     "output_type": "stream",
     "text": [
      "                  Open        High         Low       Close   Adj Close  \\\n",
      "Date                                                                     \n",
      "2020-01-01   74.059998   75.224998   73.187500   74.597504   72.484337   \n",
      "2020-01-08   74.290001   79.392502   74.290001   78.169998   75.955627   \n",
      "2020-01-15   77.962502   79.754997   77.387497   79.142502   76.900566   \n",
      "2020-01-22   79.644997   80.832497   76.220001   79.422501   77.172661   \n",
      "2020-01-29   81.112503   81.962502   75.555000   79.712502   77.454460   \n",
      "2020-02-05   80.879997   81.305000   78.462502   79.902496   77.639069   \n",
      "2020-02-12   80.367500   81.805000   78.652496   79.750000   77.674797   \n",
      "2020-02-19   80.000000   81.162498   71.532501   72.019997   70.145935   \n",
      "2020-02-26   71.632500   76.000000   64.092499   72.330002   70.447876   \n",
      "2020-03-04   74.110001   75.849998   65.750000   71.334999   69.478775   \n",
      "2020-03-11   69.347504   70.305000   59.599998   63.215000   61.570057   \n",
      "2020-03-18   59.942501   63.209999   53.152500   61.720001   60.113956   \n",
      "2020-03-25   62.687500   65.622498   61.075001   63.572498   61.918251   \n",
      "2020-04-01   61.625000   67.925003   59.224998   64.857498   63.169811   \n",
      "2020-04-08   65.684998   72.062500   65.307503   71.762497   69.895134   \n",
      "2020-04-15   70.599998   72.050003   66.357498   67.092499   65.346664   \n",
      "2020-04-22   68.402496   71.457497   68.050003   69.644997   67.832726   \n",
      "2020-04-29   71.182503   75.250000   70.972504   74.389999   72.454269   \n",
      "2020-05-06   75.114998   79.922501   74.717499   77.852501   75.826683   \n",
      "2020-05-13   78.037498   79.629997   75.052498   78.285004   76.454323   \n",
      "2020-05-20   79.169998   81.059998   78.837502   79.182503   77.330826   \n",
      "2020-05-27   79.035004   80.860001   78.272499   80.834999   78.944687   \n",
      "2020-06-03   81.165001   86.402496   80.195000   85.997498   83.986465   \n",
      "2020-06-10   86.974998   88.692497   83.144997   88.019997   85.961662   \n",
      "2020-06-17   88.787498   93.095001   86.287498   91.632500   89.489670   \n",
      "2020-06-24   91.250000   92.197502   87.820000   91.199997   89.067291   \n",
      "2020-07-01   91.279999   94.654999   90.910004   93.172501   90.993675   \n",
      "2020-07-08   94.180000   99.955002   93.877502   97.057503   94.787827   \n",
      "2020-07-15   98.989998   99.250000   95.839996   97.000000   94.731667   \n",
      "2020-07-22   96.692497   97.974998   89.144997   93.252502   91.071800   \n",
      "2020-07-29   93.750000  111.637497   93.712502  109.665001  107.100502   \n",
      "2020-08-05  109.377502  114.412498  108.897499  109.375000  106.817284   \n",
      "2020-08-12  110.497498  116.087502  110.297501  115.562500  113.063591   \n",
      "2020-08-19  115.982498  128.785004  115.610001  124.824997  122.125786   \n",
      "2020-08-26  126.180000  134.800003  123.832497  134.179993  131.278488   \n",
      "2020-09-02  137.589996  137.979996  110.889999  112.820000  110.380386   \n",
      "2020-09-09  117.260002  120.500000  110.000000  115.540001  113.041557   \n",
      "2020-09-16  115.230003  116.000000  103.099998  111.809998  109.392235   \n",
      "2020-09-23  111.620003  115.320000  105.000000  114.089996  111.622925   \n",
      "2020-09-30  113.790001  117.720001  112.220001  113.160004  110.713020   \n",
      "2020-10-07  114.620003  125.389999  114.129997  121.099998  118.481331   \n",
      "2020-10-14  121.000000  123.029999  115.629997  117.510002  114.968964   \n",
      "2020-10-21  116.669998  118.709999  112.879997  116.599998  114.078651   \n",
      "2020-10-28  115.050003  116.930000  107.320000  110.440002  108.051849   \n",
      "2020-11-04  114.139999  121.989998  112.349998  115.970001  113.462257   \n",
      "2020-11-11  117.190002  120.989998  116.440002  119.389999  117.009834   \n",
      "2020-11-18  118.610001  119.820000  112.589996  115.169998  112.873955   \n",
      "2020-11-25  115.550003  123.470001  115.169998  122.720001  120.273453   \n",
      "2020-12-02  122.019997  124.980003  120.889999  124.379997  121.900337   \n",
      "2020-12-09  124.529999  127.900002  120.150002  127.879997  125.330574   \n",
      "2020-12-16  127.410004  134.410004  123.449997  131.880005  129.250839   \n",
      "2020-12-23  132.160004  138.789993  130.779999  134.869995  132.181198   \n",
      "2020-12-30  135.580002  135.990005  131.720001  132.690002  130.044678   \n",
      "\n",
      "                Volume  \n",
      "Date                    \n",
      "2020-01-01   509062400  \n",
      "2020-01-08   726318800  \n",
      "2020-01-15   479412400  \n",
      "2020-01-22   677016000  \n",
      "2020-01-29   852965600  \n",
      "2020-02-05   545608400  \n",
      "2020-02-12   441122800  \n",
      "2020-02-19   776972800  \n",
      "2020-02-26  1606043200  \n",
      "2020-03-04  1204962800  \n",
      "2020-03-11  1691284400  \n",
      "2020-03-18  1598068000  \n",
      "2020-03-25  1124884400  \n",
      "2020-04-01   876740000  \n",
      "2020-04-08   656747600  \n",
      "2020-04-15   814536400  \n",
      "2020-04-22   596930400  \n",
      "2020-04-29   842280800  \n",
      "2020-05-06   699634800  \n",
      "2020-05-13   762808000  \n",
      "2020-05-20   421518800  \n",
      "2020-05-27   568472400  \n",
      "2020-06-03   572668800  \n",
      "2020-06-10   872697600  \n",
      "2020-06-17   823303600  \n",
      "2020-06-24   806271600  \n",
      "2020-07-01   455858800  \n",
      "2020-07-08   695630400  \n",
      "2020-07-15   549713600  \n",
      "2020-07-22   696284400  \n",
      "2020-07-29  1104018800  \n",
      "2020-08-05   922557200  \n",
      "2020-08-12   766440400  \n",
      "2020-08-19  1167933200  \n",
      "2020-08-26   883855600  \n",
      "2020-09-02  1021692400  \n",
      "2020-09-09   864867300  \n",
      "2020-09-16   998564100  \n",
      "2020-09-23   705498000  \n",
      "2020-09-30   671249600  \n",
      "2020-10-07   783390400  \n",
      "2020-10-14   623728000  \n",
      "2020-10-21   478634100  \n",
      "2020-10-28   710830900  \n",
      "2020-11-04   671619200  \n",
      "2020-11-11   462493200  \n",
      "2020-11-18   465872900  \n",
      "2020-11-25   420328900  \n",
      "2020-12-02   415169700  \n",
      "2020-12-09   519769400  \n",
      "2020-12-16   675266300  \n",
      "2020-12-23   388687300  \n",
      "2020-12-30   195568700  \n"
     ]
    },
    {
     "name": "stderr",
     "output_type": "stream",
     "text": [
      "\n"
     ]
    }
   ],
   "source": [
    "weekly_data = yf.download(\"AAPL\", start=\"2020-01-01\", end=\"2021-01-01\", interval=\"1wk\")\n",
    "print(weekly_data)"
   ]
  },
  {
   "cell_type": "code",
   "execution_count": 9,
   "metadata": {},
   "outputs": [
    {
     "name": "stdout",
     "output_type": "stream",
     "text": [
      "Date\n",
      "1987-05-11 00:00:00-04:00    0.000536\n",
      "1987-08-10 00:00:00-04:00    0.000536\n",
      "1987-11-17 00:00:00-05:00    0.000714\n",
      "1988-02-12 00:00:00-05:00    0.000714\n",
      "1988-05-16 00:00:00-04:00    0.000714\n",
      "                               ...   \n",
      "2023-05-12 00:00:00-04:00    0.240000\n",
      "2023-08-11 00:00:00-04:00    0.240000\n",
      "2023-11-10 00:00:00-05:00    0.240000\n",
      "2024-02-09 00:00:00-05:00    0.240000\n",
      "2024-05-10 00:00:00-04:00    0.250000\n",
      "Name: Dividends, Length: 83, dtype: float64 Date\n",
      "1987-06-16 00:00:00-04:00    2.0\n",
      "2000-06-21 00:00:00-04:00    2.0\n",
      "2005-02-28 00:00:00-05:00    2.0\n",
      "2014-06-09 00:00:00-04:00    7.0\n",
      "2020-08-31 00:00:00-04:00    4.0\n",
      "Name: Stock Splits, dtype: float64\n"
     ]
    }
   ],
   "source": [
    "apple = yf.Ticker(\"AAPL\")\n",
    "dividends = apple.dividends\n",
    "splits = apple.splits\n",
    "print(dividends, splits)"
   ]
  },
  {
   "cell_type": "code",
   "execution_count": 12,
   "metadata": {},
   "outputs": [
    {
     "name": "stdout",
     "output_type": "stream",
     "text": [
      "                            Open   High      Low       Close    Volume  \\\n",
      "Date                                                                     \n",
      "2024-05-23 00:00:00-04:00  191.0  191.0  186.625  186.880005  50481918   \n",
      "\n",
      "                           Dividends  Stock Splits  \n",
      "Date                                                \n",
      "2024-05-23 00:00:00-04:00        0.0           0.0  \n"
     ]
    }
   ],
   "source": [
    "apple = yf.Ticker(\"AAPL\")\n",
    "print(apple.history(period=\"1d\"))"
   ]
  },
  {
   "cell_type": "code",
   "execution_count": 14,
   "metadata": {},
   "outputs": [
    {
     "name": "stderr",
     "output_type": "stream",
     "text": [
      "[*********************100%%**********************]  1 of 1 completed\n"
     ]
    },
    {
     "data": {
      "image/png": "[encoded data removed]",
      "text/plain": [
       "<Figure size 640x480 with 1 Axes>"
      ]
     },
     "metadata": {},
     "output_type": "display_data"
    }
   ],
   "source": [
    "import matplotlib.pyplot as plt\n",
    "\n",
    "data = yf.download(\"AAPL\", start=\"2020-01-01\", end=\"2021-01-01\")\n",
    "data['Close'].plot()\n",
    "plt.title(\"Apple Stock Prices\")\n",
    "plt.show()"
   ]
  },
  {
   "cell_type": "code",
   "execution_count": null,
   "metadata": {},
   "outputs": [],
   "source": []
  }
 ],
 "metadata": {
  "kernelspec": {
   "display_name": "venv_milestone2",
   "language": "python",
   "name": "python3"
  },
  "language_info": {
   "codemirror_mode": {
    "name": "ipython",
    "version": 3
   },
   "file_extension": ".py",
   "mimetype": "text/x-python",
   "name": "python",
   "nbconvert_exporter": "python",
   "pygments_lexer": "ipython3",
   "version": "3.12.1"
  }
 },
 "nbformat": 4,
 "nbformat_minor": 2
}
