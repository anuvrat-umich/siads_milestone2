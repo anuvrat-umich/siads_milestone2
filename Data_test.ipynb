{
 "cells": [
  {
   "cell_type": "code",
   "execution_count": 1,
   "metadata": {},
   "outputs": [],
   "source": [
    "import pandas as pd\n",
    "import re\n",
    "import requests\n",
    "import time"
   ]
  },
  {
   "cell_type": "code",
   "execution_count": null,
   "metadata": {},
   "outputs": [],
   "source": [
    "apple_cik = '0000320193'\n",
    "header = {\"User-agent\":\"nchasse@umich.edu\"}\n",
    "url = 'https://data.sec.gov/submissions/CIK' + apple_cik +'.json'\n",
    "r = requests.get(url,headers=header)\n",
    "data_sec = r.json()"
   ]
  },
  {
   "cell_type": "code",
   "execution_count": null,
   "metadata": {},
   "outputs": [],
   "source": [
    "test = \"https://data.sec.gov/api/xbrl/companyfacts/CIK\" + apple_cik + \".json\"\n",
    "r = requests.get(test,headers=header)\n",
    "test_sec = r.json()"
   ]
  },
  {
   "cell_type": "code",
   "execution_count": null,
   "metadata": {},
   "outputs": [],
   "source": [
    "measures = test_sec['facts']['us-gaap'].keys()"
   ]
  },
  {
   "cell_type": "code",
   "execution_count": null,
   "metadata": {},
   "outputs": [],
   "source": [
    "def get_request(CIK):\n",
    "    header = {\"User-agent\":\"nchasse@umich.edu\"}\n",
    "    url = 'https://data.sec.gov/submissions/CIK' + CIK +'.json'\n",
    "    r = requests.get(url,headers=header)\n",
    "    data_sec = r.json()\n",
    "    return data_sec"
   ]
  },
  {
   "cell_type": "code",
   "execution_count": null,
   "metadata": {},
   "outputs": [],
   "source": [
    "def get_measures(sec):\n",
    "    return sec['facts']['us-gaap'].keys()"
   ]
  },
  {
   "cell_type": "code",
   "execution_count": null,
   "metadata": {},
   "outputs": [],
   "source": [
    "def get_measure_keys(measures):\n",
    "    measure_keys = {}\n",
    "    for measure in measures:\n",
    "        measure_keys = list(test_sec['facts']['us-gaap'][measure]['units'])[0]\n",
    "    return measure_keys"
   ]
  },
  {
   "cell_type": "code",
   "execution_count": null,
   "metadata": {},
   "outputs": [],
   "source": [
    "def get_data(measure,measure_units):\n",
    "    quarters = []\n",
    "    for dic in test_sec['facts']['us-gaap'][measure]['units'][measure_units[measure]]:\n",
    "        if ('frame' in dic.keys()):\n",
    "            new_dic = {}\n",
    "            new_dic['end'] = dic['end']\n",
    "            new_dic['frame'] = dic['frame']\n",
    "            new_dic['value'] = dic['val']\n",
    "            new_dic['measure'] = measure\n",
    "            if re.match(r\"^CY\\d{4}$\",dic['frame']):\n",
    "                new_dic['type'] = 'Year'\n",
    "            else:\n",
    "                new_dic['type'] = 'Quarter'\n",
    "            quarters.append(new_dic)\n",
    "    df = pd.DataFrame.from_dict(quarters)\n",
    "    return df"
   ]
  },
  {
   "cell_type": "code",
   "execution_count": null,
   "metadata": {},
   "outputs": [],
   "source": [
    "def make_dataframe(measures,measure_units):\n",
    "    df_final = pd.DataFrame()\n",
    "    for measure in measures:\n",
    "        df = get_data(measure,measure_units)\n",
    "        if len(df_final) == 0:\n",
    "            df_final = df\n",
    "        else:\n",
    "            df_final = pd.concat([df_final, df],join='outer')\n",
    "    df_final = df_final.sort_values(by='end')\n",
    "    return df_final"
   ]
  },
  {
   "cell_type": "code",
   "execution_count": null,
   "metadata": {},
   "outputs": [],
   "source": [
    "#get all CIKS"
   ]
  },
  {
   "cell_type": "code",
   "execution_count": null,
   "metadata": {},
   "outputs": [],
   "source": [
    "#Run for all CIKS and then save to Pickle File"
   ]
  }
 ],
 "metadata": {
  "kernelspec": {
   "display_name": "Python 3",
   "language": "python",
   "name": "python3"
  },
  "language_info": {
   "codemirror_mode": {
    "name": "ipython",
    "version": 3
   },
   "file_extension": ".py",
   "mimetype": "text/x-python",
   "name": "python",
   "nbconvert_exporter": "python",
   "pygments_lexer": "ipython3",
   "version": "3.11.2"
  }
 },
 "nbformat": 4,
 "nbformat_minor": 2
}
