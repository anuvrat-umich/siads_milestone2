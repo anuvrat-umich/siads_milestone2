{
 "cells": [
  {
   "cell_type": "markdown",
   "metadata": {},
   "source": [
    "Imports"
   ]
  },
  {
   "cell_type": "code",
   "execution_count": 2,
   "metadata": {},
   "outputs": [],
   "source": [
    "import pandas as pd\n",
    "import re\n",
    "import requests\n",
    "import time\n",
    "import pickle"
   ]
  },
  {
   "cell_type": "markdown",
   "metadata": {},
   "source": [
    "Helper Functions"
   ]
  },
  {
   "cell_type": "code",
   "execution_count": 3,
   "metadata": {},
   "outputs": [],
   "source": [
    "def get_request(CIK):\n",
    "    header = {\"User-agent\":\"nchasse@umich.edu\"}\n",
    "    url = 'https://data.sec.gov/api/xbrl/companyfacts/CIK' + CIK +'.json'\n",
    "    r = requests.get(url,headers=header)\n",
    "    data_sec = r.json()\n",
    "    return data_sec"
   ]
  },
  {
   "cell_type": "code",
   "execution_count": 4,
   "metadata": {},
   "outputs": [],
   "source": [
    "def get_measures(sec):\n",
    "    return sec['facts']['us-gaap'].keys()"
   ]
  },
  {
   "cell_type": "code",
   "execution_count": 5,
   "metadata": {},
   "outputs": [],
   "source": [
    "def get_measure_keys(measures,request):\n",
    "    measure_keys = {}\n",
    "    for measure in measures:\n",
    "        measure_keys[measure] = list(request['facts']['us-gaap'][measure]['units'])[0]\n",
    "    return measure_keys"
   ]
  },
  {
   "cell_type": "code",
   "execution_count": 63,
   "metadata": {},
   "outputs": [],
   "source": [
    "def get_data(measure,measure_units,request,symbol):\n",
    "    quarters = []\n",
    "    for dic in request['facts']['us-gaap'][measure]['units'][measure_units[measure]]:\n",
    "        if ('frame' in dic.keys()):\n",
    "            new_dic = {}\n",
    "            new_dic['sym'] = symbol\n",
    "            new_dic['end'] = dic['end']\n",
    "            new_dic['frame'] = dic['frame']\n",
    "            new_dic['value'] = dic['val']\n",
    "            new_dic['measure'] = measure\n",
    "            if re.match(r\"^CY\\d{4}$\",dic['frame']):\n",
    "                new_dic['type'] = 'Year'\n",
    "            else:\n",
    "                new_dic['type'] = 'Quarter'\n",
    "            quarters.append(new_dic)\n",
    "    df = pd.DataFrame.from_dict(quarters)\n",
    "    return df"
   ]
  },
  {
   "cell_type": "code",
   "execution_count": 65,
   "metadata": {},
   "outputs": [],
   "source": [
    "def make_dataframe(measures,measure_units,request,symbol):\n",
    "    df_final = pd.DataFrame()\n",
    "    for measure in measures:\n",
    "        df = get_data(measure,measure_units,request,symbol)\n",
    "        if len(df_final) == 0:\n",
    "            df_final = df\n",
    "        else:\n",
    "            df_final = pd.concat([df_final, df],join='outer')\n",
    "    df_final = df_final.sort_values(by='end')\n",
    "    return df_final"
   ]
  },
  {
   "cell_type": "markdown",
   "metadata": {},
   "source": [
    "Apple Example"
   ]
  },
  {
   "cell_type": "code",
   "execution_count": 66,
   "metadata": {},
   "outputs": [],
   "source": [
    "apple_cik = '0000320193'\n",
    "request = get_request(apple_cik)\n",
    "apple_measures = get_measures(request)\n",
    "apple_measure_keys = get_measure_keys(apple_measures,request)\n",
    "apple_dataframe = make_dataframe(apple_measures,apple_measure_keys,request,'AAPL')"
   ]
  },
  {
   "cell_type": "code",
   "execution_count": 67,
   "metadata": {},
   "outputs": [],
   "source": [
    "apple_dataframe.to_pickle('apple_dataframe.pkl')"
   ]
  },
  {
   "cell_type": "markdown",
   "metadata": {},
   "source": [
    "Getting Data from All Stocks Using CIK Identifier"
   ]
  },
  {
   "cell_type": "code",
   "execution_count": 87,
   "metadata": {},
   "outputs": [
    {
     "name": "stderr",
     "output_type": "stream",
     "text": [
      "C:\\Users\\nchas\\AppData\\Local\\Temp\\ipykernel_13388\\3784364563.py:11: FutureWarning: Calling int on a single element Series is deprecated and will raise a TypeError in the future. Use int(ser.iloc[0]) instead\n",
      "  CIKs.append((int(data['CIK'][data['Symbol'] == sym]),sym))\n"
     ]
    }
   ],
   "source": [
    "#get all CIKS\n",
    "tickers = pd.read_pickle(r'C:\\Users\\nchas\\Downloads\\top500_data_nona.pkl')\n",
    "data = pd.read_csv(\"SP500 - Sheet1.csv\")\n",
    "cols = list(tickers.columns)\n",
    "ticks = set()\n",
    "for col in cols:\n",
    "    ticks.add(col[1])\n",
    "CIKs = []\n",
    "for sym in data['Symbol']:\n",
    "    if sym in ticks:\n",
    "        CIKs.append((int(data['CIK'][data['Symbol'] == sym]),sym))"
   ]
  },
  {
   "cell_type": "code",
   "execution_count": 101,
   "metadata": {},
   "outputs": [],
   "source": [
    "smaller_file = round(len(CIKs)/3)\n",
    "range_1 = smaller_file\n",
    "range_2 = smaller_file*2\n",
    "range_3 = smaller_file*3"
   ]
  },
  {
   "cell_type": "code",
   "execution_count": 102,
   "metadata": {},
   "outputs": [],
   "source": [
    "#get data from EDGAR and make one DataFrame part 1/3\n",
    "df_merged = pd.DataFrame()\n",
    "for cik in CIKs[:range_1]:\n",
    "    final_cik = str(cik[0]).zfill(10)\n",
    "    request = get_request(final_cik)\n",
    "    measures = get_measures(request)\n",
    "    measure_keys = get_measure_keys(measures,request)\n",
    "    df = make_dataframe(measures,measure_keys,request,cik[1])\n",
    "    if len(df_merged) == 0:\n",
    "        df_merged = df\n",
    "    else:\n",
    "        df_merged = pd.concat([df,df_merged],join='outer')\n",
    "    #ensure compliance with SEC limit of 10 requests per second\n",
    "    time.sleep(0.1)\n",
    "df_merged.dropna(inplace=True)\n",
    "df_merged.to_feather('stock_edgar_1_of_3.feather')"
   ]
  },
  {
   "cell_type": "code",
   "execution_count": 103,
   "metadata": {},
   "outputs": [],
   "source": [
    "#get data from EDGAR and make one DataFrame part 2/3\n",
    "df_merged = pd.DataFrame()\n",
    "for cik in CIKs[range_1:range_2]:\n",
    "    final_cik = str(cik[0]).zfill(10)\n",
    "    request = get_request(final_cik)\n",
    "    measures = get_measures(request)\n",
    "    measure_keys = get_measure_keys(measures,request)\n",
    "    df = make_dataframe(measures,measure_keys,request,cik[1])\n",
    "    if len(df_merged) == 0:\n",
    "        df_merged = df\n",
    "    else:\n",
    "        df_merged = pd.concat([df,df_merged],join='outer')\n",
    "    #ensure compliance with SEC limit of 10 requests per second\n",
    "    time.sleep(0.1)\n",
    "df_merged.dropna(inplace=True)\n",
    "df_merged.to_feather('stock_edgar_2_of_3.feather')"
   ]
  },
  {
   "cell_type": "code",
   "execution_count": 104,
   "metadata": {},
   "outputs": [],
   "source": [
    "#get data from EDGAR and make one DataFrame part 3/3\n",
    "df_merged = pd.DataFrame()\n",
    "for cik in CIKs[range_2:range_3+1]:\n",
    "    final_cik = str(cik[0]).zfill(10)\n",
    "    request = get_request(final_cik)\n",
    "    measures = get_measures(request)\n",
    "    measure_keys = get_measure_keys(measures,request)\n",
    "    df = make_dataframe(measures,measure_keys,request,cik[1])\n",
    "    if len(df_merged) == 0:\n",
    "        df_merged = df\n",
    "    else:\n",
    "        df_merged = pd.concat([df,df_merged],join='outer')\n",
    "    #ensure compliance with SEC limit of 10 requests per second\n",
    "    time.sleep(0.1)\n",
    "df_merged.dropna(inplace=True)\n",
    "df_merged.to_feather('stock_edgar_3_of_3.feather')"
   ]
  }
 ],
 "metadata": {
  "kernelspec": {
   "display_name": "Python 3",
   "language": "python",
   "name": "python3"
  },
  "language_info": {
   "codemirror_mode": {
    "name": "ipython",
    "version": 3
   },
   "file_extension": ".py",
   "mimetype": "text/x-python",
   "name": "python",
   "nbconvert_exporter": "python",
   "pygments_lexer": "ipython3",
   "version": "3.11.2"
  }
 },
 "nbformat": 4,
 "nbformat_minor": 2
}
